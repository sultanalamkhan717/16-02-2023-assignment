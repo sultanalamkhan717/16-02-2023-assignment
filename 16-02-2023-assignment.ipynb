{
 "cells": [
  {
   "cell_type": "markdown",
   "id": "b8ca6def-c1e8-4166-be22-c0f9a62bd98a",
   "metadata": {},
   "source": [
    "#ANSWER-1"
   ]
  },
  {
   "cell_type": "markdown",
   "id": "0b4f7c95-bb14-4f3c-a190-0fc74166217b",
   "metadata": {},
   "source": [
    "A database is a collection of organized data that is stored and managed on a computer system.\n",
    "It is a crucial component of many software applications and websites that require a large amount of data to be stored,\n",
    "retrieved, and manipulated.\n",
    "\n",
    "SQL (Structured Query Language) and NoSQL (Not only SQL) are two different types of databases\n",
    "that use different models to store and retrieve data.\n",
    "\n",
    "SQL databases use a structured model with a schema that defines the tables, columns, and relationships between them.\n",
    "These databases are used for managing structured data, such as financial transactions, customer records, and inventory management.\n",
    "SQL databases are known for their strong consistency and reliability,\n",
    "and they are widely used in industries that require a high level of data integrity, such as banking and finance.\n",
    "\n",
    "NoSQL databases, on the other hand, do not have a predefined schema and use a variety of data models, \n",
    "including key-value stores, document stores, column-family stores, and graph databases.\n",
    "NoSQL databases are designed to handle large volumes of unstructured data, such as social media posts, user-generated content,\n",
    "and sensor data. They are highly scalable and can handle a large number of concurrent users.\n",
    "NoSQL databases are commonly used in modern web applications, where the ability to quickly store and retrieve data\n",
    "is more important than strong consistency.\n",
    "\n",
    "In summary, SQL databases are well-suited for structured data with a predefined schema,\n",
    "while NoSQL databases are better for handling large volumes of unstructured data with flexible schemas.\n"
   ]
  },
  {
   "cell_type": "markdown",
   "id": "b0b4f18c-dd8d-4800-aa31-03b46fad01bd",
   "metadata": {},
   "source": [
    "ANSWER-2"
   ]
  },
  {
   "cell_type": "code",
   "execution_count": null,
   "id": "b73ce24d-f081-46cc-8426-5b9d66e30ec9",
   "metadata": {},
   "outputs": [],
   "source": [
    "DDL stands for Data Definition Language, which is a set of SQL commands that are used to define and modify \n",
    "the structure of a database.\n",
    "DDL commands are used to create, modify, and delete database objects such as tables, views, indexes, and constraints."
   ]
  },
  {
   "cell_type": "code",
   "execution_count": null,
   "id": "f03b6433-fc82-40b4-bea2-0ac89a4097e0",
   "metadata": {},
   "outputs": [],
   "source": [
    "CREATE: The CREATE command is used to create a new database object, such as a table or a view.\n",
    "For example, to create a new table named \"employees\" with columns for employee ID, name, and department,\n",
    "the following SQL command can be used:"
   ]
  },
  {
   "cell_type": "code",
   "execution_count": null,
   "id": "8827fcce-b0a2-48e0-86be-33d6baf6330e",
   "metadata": {},
   "outputs": [],
   "source": [
    "CREATE TABLE employees (\n",
    "    id INT PRIMARY KEY,\n",
    "    name VARCHAR(50),\n",
    "    department VARCHAR(50)\n",
    ");\n"
   ]
  },
  {
   "cell_type": "code",
   "execution_count": null,
   "id": "415182ba-c8d6-40e0-a56f-7bc02337477b",
   "metadata": {},
   "outputs": [],
   "source": [
    "DROP: The DROP command is used to delete a database object, such as a table or a view.\n",
    "For example, to delete the \"employees\" table, the following SQL command can be used:"
   ]
  },
  {
   "cell_type": "code",
   "execution_count": null,
   "id": "733d90e0-7220-40cd-865e-bd7b40fc78f9",
   "metadata": {},
   "outputs": [],
   "source": [
    "DROP TABLE employees;\n"
   ]
  },
  {
   "cell_type": "code",
   "execution_count": null,
   "id": "44a0693c-5309-42aa-ab1d-37347ac15506",
   "metadata": {},
   "outputs": [],
   "source": [
    "ALTER: The ALTER command is used to modify the structure of an existing database object, such as a table.\n",
    "For example, to add a new column for employee salary to the \"employees\" table, the following SQL command can be used:"
   ]
  },
  {
   "cell_type": "code",
   "execution_count": null,
   "id": "35d8a076-bfe7-4c22-baa7-5245fd6b7a12",
   "metadata": {},
   "outputs": [],
   "source": [
    "ALTER TABLE employees ADD COLUMN salary INT;\n"
   ]
  },
  {
   "cell_type": "code",
   "execution_count": null,
   "id": "60884f2a-74b1-4113-b5ea-932df0e483a7",
   "metadata": {},
   "outputs": [],
   "source": [
    "TRUNCATE: The TRUNCATE command is used to delete all the data from a table, but keep the table structure intact.\n",
    "For example, to delete all the data from the \"employees\" table, the following SQL command can be used:"
   ]
  },
  {
   "cell_type": "code",
   "execution_count": null,
   "id": "84a004b3-5170-48d3-ae1d-4bbcde2e144f",
   "metadata": {},
   "outputs": [],
   "source": [
    "TRUNCATE TABLE employees;\n"
   ]
  },
  {
   "cell_type": "markdown",
   "id": "33beab0a-5d51-45bb-818a-83dbe3826543",
   "metadata": {},
   "source": [
    "#ANSWER-3"
   ]
  },
  {
   "cell_type": "code",
   "execution_count": null,
   "id": "adcc770f-b987-4320-9265-4b1a959735db",
   "metadata": {},
   "outputs": [],
   "source": [
    "DML stands for Data Manipulation Language, which is a subset of SQL (Structured Query Language)\n",
    "used for modifying data within a database."
   ]
  },
  {
   "cell_type": "code",
   "execution_count": null,
   "id": "66ed5b7c-1ddf-4545-bd61-0bddf5d2f0e1",
   "metadata": {},
   "outputs": [],
   "source": [
    "#INSERT: This command is used to insert new data into a table.\n",
    "\n",
    "INSERT INTO customers (customer_id, first_name, last_name, email) \n",
    "VALUES (123, 'John', 'Doe', 'johndoe@example.com');\n"
   ]
  },
  {
   "cell_type": "code",
   "execution_count": null,
   "id": "7cc78e87-9ca9-48a7-9cb5-c82cc0e92d97",
   "metadata": {},
   "outputs": [],
   "source": [
    "#UPDATE: This command is used to modify existing data in a table.\n",
    "\n",
    "UPDATE customers\n",
    "SET email = 'newemail@example.com'\n",
    "WHERE customer_id = 123;\n"
   ]
  },
  {
   "cell_type": "code",
   "execution_count": null,
   "id": "0cba8f26-d279-4fe1-b84f-43eeebdab8cd",
   "metadata": {},
   "outputs": [],
   "source": [
    "#DELETE: This command is used to remove data from a table.\n",
    "\n",
    "DELETE FROM customers\n",
    "WHERE customer_id = 123;\n"
   ]
  },
  {
   "cell_type": "markdown",
   "id": "41361ef3-4a0b-4e1a-bd86-63ebaa870929",
   "metadata": {},
   "source": [
    "#ANSWER-4"
   ]
  },
  {
   "cell_type": "code",
   "execution_count": null,
   "id": "b197efc7-a559-4e80-8e38-b7748f12e495",
   "metadata": {},
   "outputs": [],
   "source": [
    "DQL stands for Data Query Language, which is a subset of SQL (Structured Query Language) \n",
    "used for querying and retrieving data from a database.\n",
    "\n",
    "The most common DQL command is SELECT, which is used to retrieve data from a table or multiple tables."
   ]
  },
  {
   "cell_type": "code",
   "execution_count": null,
   "id": "8c83e9e5-c636-49a5-a583-2934437ae89b",
   "metadata": {},
   "outputs": [],
   "source": [
    "SELECT * FROM orders;\n",
    "\n",
    "SELECT order_id, customer_id, order_date FROM orders;\n",
    "\n",
    "\n",
    "\n",
    "\n",
    "SELECT * FROM orders\n",
    "WHERE customer_id = 123;\n",
    "\n",
    "\n",
    "SELECT COUNT(*) FROM orders;\n"
   ]
  },
  {
   "cell_type": "markdown",
   "id": "f6ce0a38-d2de-4e3c-bde8-df83babe913e",
   "metadata": {},
   "source": [
    "#ANSWER-5"
   ]
  },
  {
   "cell_type": "code",
   "execution_count": null,
   "id": "d2c6cbed-f082-47d8-bde2-d4b1b5e0f579",
   "metadata": {},
   "outputs": [],
   "source": [
    "Primary key and foreign key are two important concepts in relational databases.\n",
    "A primary key is a column or set of columns in a table that uniquely identifies each row in that table,\n",
    "while a foreign key is a column or set of columns in one table that refers to the primary key of another table.\n",
    "\n",
    "A primary key is used to ensure that each row in a table is uniquely identified and can be accessed quickly.\n",
    "A primary key cannot have duplicate values and must be unique for each row in the table. \n",
    "In most cases, a primary key is created using a single column, but it can also be created using a combination of columns.\n",
    "\n",
    "For example, consider a table named \"customers\" with columns \"customer_id,\" \"first_name,\" \"last_name,\"\n",
    "and \"email.\" The \"customer_id\" column can be used as the primary key since it is unique for each customer.\n",
    "\n",
    "A foreign key is used to create a relationship between two tables. It is a column or set of columns \n",
    "in one table that refers to the primary key of another table. This relationship is used to link the data in the two tables,\n",
    "allowing data to be retrieved from both tables at once.\n",
    "\n",
    "For example, consider another table named \"orders\" with columns \"order_id,\" \"customer_id,\" \"product_name,\" and\n",
    "\"order_date.\" The \"customer_id\" column in the \"orders\" table can be used as a foreign key\n",
    "that refers to the \"customer_id\" column in the \"customers\" table. \n",
    "This creates a relationship between the two tables based on the \"customer_id\" column.\n",
    "\n",
    "Foreign keys ensure that data is consistent across multiple tables. They help to maintain referential integrity, \n",
    "which means that a row in one table cannot refer to a non-existent row in another table.\n",
    "If a foreign key refers to a non-existent primary key, it will cause an error and prevent inconsistent data\n",
    "from being added to the database.\n",
    "\n",
    "In summary, primary keys and foreign keys are essential for building relationships between tables and\n",
    "ensuring data integrity in a relational database.\n"
   ]
  },
  {
   "cell_type": "markdown",
   "id": "57178ea2-394d-43f2-b024-7e0d19f52fe3",
   "metadata": {},
   "source": [
    "#ANSWER-6"
   ]
  },
  {
   "cell_type": "code",
   "execution_count": 1,
   "id": "9608eadd-eaf8-4564-af3a-22028afdc771",
   "metadata": {},
   "outputs": [
    {
     "ename": "ModuleNotFoundError",
     "evalue": "No module named 'mysql'",
     "output_type": "error",
     "traceback": [
      "\u001b[0;31m---------------------------------------------------------------------------\u001b[0m",
      "\u001b[0;31mModuleNotFoundError\u001b[0m                       Traceback (most recent call last)",
      "Cell \u001b[0;32mIn[1], line 3\u001b[0m\n\u001b[1;32m      1\u001b[0m \u001b[38;5;241m1\u001b[39m \u001b[38;5;66;03m#pip install mysql-connector-python\u001b[39;00m\n\u001b[0;32m----> 3\u001b[0m \u001b[38;5;28;01mimport\u001b[39;00m \u001b[38;5;21;01mmysql\u001b[39;00m\u001b[38;5;21;01m.\u001b[39;00m\u001b[38;5;21;01mconnector\u001b[39;00m\n\u001b[1;32m      5\u001b[0m \u001b[38;5;66;03m# connect to MySQL database\u001b[39;00m\n\u001b[1;32m      6\u001b[0m mydb \u001b[38;5;241m=\u001b[39m mysql\u001b[38;5;241m.\u001b[39mconnector\u001b[38;5;241m.\u001b[39mconnect(\n\u001b[1;32m      7\u001b[0m   host\u001b[38;5;241m=\u001b[39m\u001b[38;5;124m\"\u001b[39m\u001b[38;5;124mlocalhost\u001b[39m\u001b[38;5;124m\"\u001b[39m,\n\u001b[1;32m      8\u001b[0m   user\u001b[38;5;241m=\u001b[39m\u001b[38;5;124m\"\u001b[39m\u001b[38;5;124musername\u001b[39m\u001b[38;5;124m\"\u001b[39m,\n\u001b[1;32m      9\u001b[0m   password\u001b[38;5;241m=\u001b[39m\u001b[38;5;124m\"\u001b[39m\u001b[38;5;124mpassword\u001b[39m\u001b[38;5;124m\"\u001b[39m,\n\u001b[1;32m     10\u001b[0m   database\u001b[38;5;241m=\u001b[39m\u001b[38;5;124m\"\u001b[39m\u001b[38;5;124mdatabase_name\u001b[39m\u001b[38;5;124m\"\u001b[39m\n\u001b[1;32m     11\u001b[0m )\n",
      "\u001b[0;31mModuleNotFoundError\u001b[0m: No module named 'mysql'"
     ]
    }
   ],
   "source": [
    "1 #pip install mysql-connector-python\n",
    "\n",
    "import mysql.connector\n",
    "\n",
    "# connect to MySQL database\n",
    "mydb = mysql.connector.connect(\n",
    "  host=\"localhost\",\n",
    "  user=\"username\",\n",
    "  password=\"password\",\n",
    "  database=\"database_name\"\n",
    ")\n",
    "\n",
    "# create a cursor object\n",
    "mycursor = mydb.cursor()\n",
    "\n",
    "# execute SQL query\n",
    "mycursor.execute(\"SELECT * FROM customers\")\n",
    "\n",
    "# fetch result\n",
    "result = mycursor.fetchall()\n",
    "\n",
    "# print result\n",
    "for row in result:\n",
    "  print(row)\n",
    "\n"
   ]
  },
  {
   "cell_type": "markdown",
   "id": "f501ae7d-54b4-413a-86f5-21ab46ecf031",
   "metadata": {},
   "source": [
    "In the above code, we first import the \"mysql.connector\" library and then use the \"connect()\" method\n",
    "to connect to the MySQL database. We provide the host name, username, password, and database name as arguments to this method.\n",
    "\n",
    "Next, we create a cursor object using the \"cursor()\" method. The cursor object is used to execute SQL queries \n",
    "and fetch results from the database.\n",
    "\n",
    "We then execute an SQL query using the \"execute()\" method of the cursor object. \n",
    "The SQL query is passed as an argument to this method.\n",
    "\n",
    "After executing the query, we fetch the result using the \"fetchall()\" method of the cursor object.\n",
    "This method returns all the rows of the result set as a list of tuples.\n",
    "\n",
    "Finally, we iterate through the result set and print each row.\n",
    "\n",
    "The cursor() method returns a cursor object, which is used to execute SQL queries \n",
    "and fetch results from the database. The execute() method is used to execute an SQL query. \n",
    "It takes an SQL query as an argument and returns the result of the query. \n",
    "If the query is a SELECT statement, it returns a result set that can be fetched using the fetchone()\n",
    "or fetchall() methods of the cursor object. If the query is a data modification statement\n",
    "(INSERT, UPDATE, DELETE), it returns the number of rows affected by the statement."
   ]
  },
  {
   "cell_type": "markdown",
   "id": "387037fd-889e-4dfe-83a2-865d826cb6bb",
   "metadata": {},
   "source": [
    "#ANSWER-7"
   ]
  },
  {
   "cell_type": "markdown",
   "id": "85c2bc38-4cd1-4be7-a4ea-0c8bda8ff96d",
   "metadata": {},
   "source": [
    "SELECT: This clause is used to select columns from one or more tables. \n",
    "It is the first clause that is executed in a SQL query.\n",
    "\n",
    "FROM: This clause specifies the tables from which the columns are selected in the SELECT clause.\n",
    "It is executed after the SELECT clause.\n",
    "\n",
    "JOIN: This clause is used to combine data from multiple tables based on a common column.\n",
    "It is executed after the FROM clause.\n",
    "\n",
    "WHERE: This clause is used to filter data based on a specific condition. It is executed after the JOIN clause.\n",
    "\n",
    "GROUP BY: This clause is used to group the result set based on one or more columns. It is executed after the WHERE clause.\n",
    "\n",
    "HAVING: This clause is used to filter the result set based on a specific condition for a grouped column. \n",
    "It is executed after the GROUP BY clause.\n",
    "\n",
    "ORDER BY: This clause is used to sort the result set based on one or more columns. It is executed after the HAVING clause.\n",
    "\n",
    "LIMIT: This clause is used to limit the number of rows returned by the query. It is executed after the ORDER BY clause.\n",
    "\n",
    "It is important to note that not all clauses are required in every query.\n",
    "The SELECT and FROM clauses are required in every query, \n",
    "while the other clauses are optional and may be omitted depending on the specific query requirements."
   ]
  }
 ],
 "metadata": {
  "kernelspec": {
   "display_name": "Python 3 (ipykernel)",
   "language": "python",
   "name": "python3"
  },
  "language_info": {
   "codemirror_mode": {
    "name": "ipython",
    "version": 3
   },
   "file_extension": ".py",
   "mimetype": "text/x-python",
   "name": "python",
   "nbconvert_exporter": "python",
   "pygments_lexer": "ipython3",
   "version": "3.10.8"
  }
 },
 "nbformat": 4,
 "nbformat_minor": 5
}
